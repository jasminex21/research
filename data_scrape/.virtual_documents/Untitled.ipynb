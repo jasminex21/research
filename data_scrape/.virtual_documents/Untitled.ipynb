


import pandas as pd


schedule = pd.read_csv("/home/jasmine/PROJECTS/research/data_scrape/ALL_CLUB_STATS.csv")
schedule


parent_tweets = pd.read_csv("/home/jasmine/PROJECTS/research/ALL_PARENT_TWEETS.csv")
parent_tweets





# add col. that combines date and time
schedule["KO_datetime"] = schedule['date'] + " " + schedule['time']
schedule


schedule["KO_datetime"]





schedule["KO_datetime"] = pd.to_datetime(schedule["KO_datetime"])
schedule.dtypes


schedule["FT_datetime"] = schedule["KO_datetime"] + pd.to_timedelta(2, unit='h')
schedule





club_names = ["Manchester City",
              "Arsenal",
              "Liverpool",
              "Aston Villa",
              "Tottenham",
              "Chelsea",
              "Newcastle Utd",
              "Manchester Utd",
              "West Ham",
              "Crystal Palace",
              "Brighton",
              "Bournemouth",
              "Fulham",
              "Wolves",
              "Everton",
              "Brentford",
              "Nott'ham Forest",
              "Luton Town",
              "Burnley",
              "Sheffield Utd"]
club_handles = ["mancity",
                "arsenal",
                "lfc",
                "avfcofficial",
                "spursofficial",
                "chelseafc",
                "nufc",
                "manutd",
                "westham",
                "cpfc",
                "officialbhafc",
                "afcbournemouth",
                "fulhamfc",
                "wolves",
                "everton",
                "brentfordfc",
                "nffc",
                "lutontown",
                "burnleyofficial",
                "sheffieldunited"]
club_mapping = dict(zip(club_names, club_handles))


club_mapping


cols = ["team", "opponent", "round", "result", "match_report", "KO_datetime", "FT_datetime"]
schedule = schedule[cols]
schedule


schedule["handle"] = schedule["team"].map(club_mapping)
schedule


schedule_filter = schedule[["handle", "opponent", 'KO_datetime', 'FT_datetime', "match_report"]]
schedule_filter





parent_tweets["club_handle"].unique()





parent_tweets = parent_tweets[~parent_tweets["club_handle"].isin(["IpswichTown", "LCFC", "SouthamptonFC"])]
parent_tweets["club_handle"].unique()


# lowercase the club handles
parent_tweets["club_handle"] = parent_tweets["club_handle"].str.lower()
parent_tweets


parent_tweets["datetime"] = pd.to_datetime(parent_tweets["datetime"]).dt.tz_localize(None)
parent_tweets


filtered_df = pd.DataFrame(columns=list(parent_tweets.columns) + ["match_report"])

for club_handle in club_handles:
    
    club_schedule = schedule_filter[schedule_filter["handle"] == club_handle]
    club_tweets = parent_tweets[parent_tweets["club_handle"] == club_handle]
    kos, fts = club_schedule["KO_datetime"], club_schedule["FT_datetime"]
    match_reports = club_schedule["match_report"]

    club_rows = []

    for _, row in club_tweets.iterrows(): 
        for ko, ft, report in zip(kos, fts, match_reports): 
            if ko <= row["datetime"] <= ft:
                row["match_report"] = report
                club_rows.append(row)

    club_rows = pd.DataFrame(club_rows, columns=list(parent_tweets.columns) + ["match_report"])
    filtered_df = pd.concat([filtered_df, club_rows])


filtered_df


filtered_df.to_csv("PARENT_TWEETS_FILTERED.csv", index=False)
